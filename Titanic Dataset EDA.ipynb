{
 "cells": [
  {
   "cell_type": "code",
   "execution_count": 1,
   "id": "e75987cf",
   "metadata": {},
   "outputs": [],
   "source": [
    "#importing libraries \n",
    "import pandas as pd \n",
    "import seaborn as sns"
   ]
  },
  {
   "cell_type": "code",
   "execution_count": 2,
   "id": "dab95e07",
   "metadata": {},
   "outputs": [],
   "source": [
    "#Read data \n",
    "data = pd.read_csv(\"Titanic_dataset.csv\")"
   ]
  },
  {
   "cell_type": "markdown",
   "id": "4bece031",
   "metadata": {},
   "source": [
    "## Data Cleaning & Feature Engineering"
   ]
  },
  {
   "cell_type": "code",
   "execution_count": 3,
   "id": "a8c5ea96",
   "metadata": {},
   "outputs": [
    {
     "data": {
      "text/html": [
       "<div>\n",
       "<style scoped>\n",
       "    .dataframe tbody tr th:only-of-type {\n",
       "        vertical-align: middle;\n",
       "    }\n",
       "\n",
       "    .dataframe tbody tr th {\n",
       "        vertical-align: top;\n",
       "    }\n",
       "\n",
       "    .dataframe thead th {\n",
       "        text-align: right;\n",
       "    }\n",
       "</style>\n",
       "<table border=\"1\" class=\"dataframe\">\n",
       "  <thead>\n",
       "    <tr style=\"text-align: right;\">\n",
       "      <th></th>\n",
       "      <th>PassengerId</th>\n",
       "      <th>Survived</th>\n",
       "      <th>Pclass</th>\n",
       "      <th>Name</th>\n",
       "      <th>Sex</th>\n",
       "      <th>Age</th>\n",
       "      <th>SibSp</th>\n",
       "      <th>Parch</th>\n",
       "      <th>Ticket</th>\n",
       "      <th>Fare</th>\n",
       "      <th>Cabin</th>\n",
       "      <th>Embarked</th>\n",
       "    </tr>\n",
       "  </thead>\n",
       "  <tbody>\n",
       "    <tr>\n",
       "      <th>0</th>\n",
       "      <td>1</td>\n",
       "      <td>0</td>\n",
       "      <td>3</td>\n",
       "      <td>Braund, Mr. Owen Harris</td>\n",
       "      <td>male</td>\n",
       "      <td>22.0</td>\n",
       "      <td>1</td>\n",
       "      <td>0</td>\n",
       "      <td>A/5 21171</td>\n",
       "      <td>7.2500</td>\n",
       "      <td>NaN</td>\n",
       "      <td>S</td>\n",
       "    </tr>\n",
       "    <tr>\n",
       "      <th>1</th>\n",
       "      <td>2</td>\n",
       "      <td>1</td>\n",
       "      <td>1</td>\n",
       "      <td>Cumings, Mrs. John Bradley (Florence Briggs Th...</td>\n",
       "      <td>female</td>\n",
       "      <td>38.0</td>\n",
       "      <td>1</td>\n",
       "      <td>0</td>\n",
       "      <td>PC 17599</td>\n",
       "      <td>71.2833</td>\n",
       "      <td>C85</td>\n",
       "      <td>C</td>\n",
       "    </tr>\n",
       "    <tr>\n",
       "      <th>2</th>\n",
       "      <td>3</td>\n",
       "      <td>1</td>\n",
       "      <td>3</td>\n",
       "      <td>Heikkinen, Miss. Laina</td>\n",
       "      <td>female</td>\n",
       "      <td>26.0</td>\n",
       "      <td>0</td>\n",
       "      <td>0</td>\n",
       "      <td>STON/O2. 3101282</td>\n",
       "      <td>7.9250</td>\n",
       "      <td>NaN</td>\n",
       "      <td>S</td>\n",
       "    </tr>\n",
       "    <tr>\n",
       "      <th>3</th>\n",
       "      <td>4</td>\n",
       "      <td>1</td>\n",
       "      <td>1</td>\n",
       "      <td>Futrelle, Mrs. Jacques Heath (Lily May Peel)</td>\n",
       "      <td>female</td>\n",
       "      <td>35.0</td>\n",
       "      <td>1</td>\n",
       "      <td>0</td>\n",
       "      <td>113803</td>\n",
       "      <td>53.1000</td>\n",
       "      <td>C123</td>\n",
       "      <td>S</td>\n",
       "    </tr>\n",
       "    <tr>\n",
       "      <th>4</th>\n",
       "      <td>5</td>\n",
       "      <td>0</td>\n",
       "      <td>3</td>\n",
       "      <td>Allen, Mr. William Henry</td>\n",
       "      <td>male</td>\n",
       "      <td>35.0</td>\n",
       "      <td>0</td>\n",
       "      <td>0</td>\n",
       "      <td>373450</td>\n",
       "      <td>8.0500</td>\n",
       "      <td>NaN</td>\n",
       "      <td>S</td>\n",
       "    </tr>\n",
       "  </tbody>\n",
       "</table>\n",
       "</div>"
      ],
      "text/plain": [
       "   PassengerId  Survived  Pclass  \\\n",
       "0            1         0       3   \n",
       "1            2         1       1   \n",
       "2            3         1       3   \n",
       "3            4         1       1   \n",
       "4            5         0       3   \n",
       "\n",
       "                                                Name     Sex   Age  SibSp  \\\n",
       "0                            Braund, Mr. Owen Harris    male  22.0      1   \n",
       "1  Cumings, Mrs. John Bradley (Florence Briggs Th...  female  38.0      1   \n",
       "2                             Heikkinen, Miss. Laina  female  26.0      0   \n",
       "3       Futrelle, Mrs. Jacques Heath (Lily May Peel)  female  35.0      1   \n",
       "4                           Allen, Mr. William Henry    male  35.0      0   \n",
       "\n",
       "   Parch            Ticket     Fare Cabin Embarked  \n",
       "0      0         A/5 21171   7.2500   NaN        S  \n",
       "1      0          PC 17599  71.2833   C85        C  \n",
       "2      0  STON/O2. 3101282   7.9250   NaN        S  \n",
       "3      0            113803  53.1000  C123        S  \n",
       "4      0            373450   8.0500   NaN        S  "
      ]
     },
     "execution_count": 3,
     "metadata": {},
     "output_type": "execute_result"
    }
   ],
   "source": [
    "#explore the data\n",
    "data.head()"
   ]
  },
  {
   "cell_type": "code",
   "execution_count": null,
   "id": "3a6358c1",
   "metadata": {},
   "outputs": [],
   "source": [
    "#get different statistics of the data \n",
    "data.describe()"
   ]
  },
  {
   "cell_type": "code",
   "execution_count": null,
   "id": "7f15297e",
   "metadata": {},
   "outputs": [],
   "source": [
    "#have a quick overview of the data\n",
    "data.info()"
   ]
  },
  {
   "cell_type": "code",
   "execution_count": null,
   "id": "2aaf6c57",
   "metadata": {},
   "outputs": [],
   "source": [
    "#check null values in each column to handle them \n",
    "data.isnull().sum()"
   ]
  },
  {
   "cell_type": "markdown",
   "id": "dbb7217d",
   "metadata": {},
   "source": [
    "<h4> As it can be seen Cabin column values are 75% Null so it will be dropped </h4> "
   ]
  },
  {
   "cell_type": "code",
   "execution_count": null,
   "id": "0cf7e987",
   "metadata": {},
   "outputs": [],
   "source": [
    "#removing deplicates\n",
    "data = data.drop_duplicates()"
   ]
  },
  {
   "cell_type": "code",
   "execution_count": null,
   "id": "d54d3a0e",
   "metadata": {},
   "outputs": [],
   "source": [
    "#Drop the rows where all elements are missing.\n",
    "data.dropna(how='all')"
   ]
  },
  {
   "cell_type": "code",
   "execution_count": null,
   "id": "9d957036",
   "metadata": {},
   "outputs": [],
   "source": [
    "#plot the age column distribution \n",
    "data['Age'].hist()"
   ]
  },
  {
   "cell_type": "markdown",
   "id": "f1c2d01e",
   "metadata": {},
   "source": [
    "#### It can be seen from the histogram that the age distribution is right skewed hence the missing values will be filled with the median  "
   ]
  },
  {
   "cell_type": "code",
   "execution_count": null,
   "id": "ea5f714e",
   "metadata": {},
   "outputs": [],
   "source": [
    "#fill the age missing values with the median \n",
    "data['Age'] = data['Age'].fillna(data['Age'].median())"
   ]
  },
  {
   "cell_type": "code",
   "execution_count": null,
   "id": "e5e46c7d",
   "metadata": {},
   "outputs": [],
   "source": [
    "# fill the Embarked missing values with U as Unknown \n",
    "data['Embarked'] = data['Embarked'].fillna('U')"
   ]
  },
  {
   "cell_type": "code",
   "execution_count": null,
   "id": "90630bde",
   "metadata": {},
   "outputs": [],
   "source": [
    "#check the unique values for each column\n",
    "print(data.nunique()) "
   ]
  },
  {
   "cell_type": "markdown",
   "id": "0e3dc976",
   "metadata": {},
   "source": [
    "<h4> It can be seen that the PassengerId and Name are considered unique values for each row \n",
    "so the title for females will be extracted from the name column then it will be dropped as the PassengerId is enough to distinguish between different entries</h4> "
   ]
  },
  {
   "cell_type": "code",
   "execution_count": null,
   "id": "a8f52cdb",
   "metadata": {},
   "outputs": [],
   "source": [
    "#Assign a new column for being married or not based on the title for female titles {Miss , Mrs}\n",
    "data.loc[data.Name.str.contains('Mrs'), 'Married' ] = 1\n",
    "data.loc[data.Name.str.contains('Miss'), 'Married' ] = 0"
   ]
  },
  {
   "cell_type": "code",
   "execution_count": null,
   "id": "35977ba6",
   "metadata": {},
   "outputs": [],
   "source": [
    "#Drop name , Cabin columns \n",
    "data.drop(['Cabin' , 'Name'],axis='columns',inplace=True)"
   ]
  },
  {
   "cell_type": "markdown",
   "id": "fddf4da3",
   "metadata": {},
   "source": [
    "#### To make things simpler a column for age range will be added to group the passengers into different age groups"
   ]
  },
  {
   "cell_type": "code",
   "execution_count": null,
   "id": "5d30a9ba",
   "metadata": {},
   "outputs": [],
   "source": [
    "# adding a column for age range\n",
    "data.loc[(0 <= data['Age']) & (data['Age'] <= 18), 'age_range' ] = \"Age Range(0-18 years)\"\n",
    "data.loc[( 19<= data['Age']) & (data['Age'] <= 40), 'age_range' ] = \"Age Range(19-40 years)\"\n",
    "data.loc[(41 <= data['Age']) & (data['Age'] <= 60), 'age_range' ] = \"Age Range(41-60 years)\"\n",
    "data.loc[(data['Age'] >= 61), 'age_range'] = \"Age Range(60+ years)\""
   ]
  },
  {
   "cell_type": "markdown",
   "id": "2cf82b1d",
   "metadata": {},
   "source": [
    "## Exploratory Data Analysis"
   ]
  },
  {
   "cell_type": "markdown",
   "id": "cd9b552b",
   "metadata": {},
   "source": [
    "### Question 1: What is the surviving rate in terms of gender and class?"
   ]
  },
  {
   "cell_type": "code",
   "execution_count": null,
   "id": "bf20c24b",
   "metadata": {},
   "outputs": [],
   "source": [
    "#plotting surviving rate in terms of gender and class\n",
    "sns.set(rc = {'figure.figsize':(20,10)})\n",
    "gender_class_plot = sns.catplot(x=\"Sex\", y=\"Survived\", hue=\"Pclass\", kind=\"bar\", data=data , palette=\"mako\")\n",
    "gender_class_plot.fig.suptitle(\"Survivng Rate in Terms of Gender and Class\", va = 'top', fontsize=20 , y=1.05 )"
   ]
  },
  {
   "cell_type": "markdown",
   "id": "80bab1f1",
   "metadata": {},
   "source": [
    "### Question 2: Were married women more likely to survive than unmarried women?"
   ]
  },
  {
   "cell_type": "code",
   "execution_count": null,
   "id": "4926690d",
   "metadata": {},
   "outputs": [],
   "source": [
    "#plotting married vs unmarried women surviving rate \n",
    "sns.set(rc = {'figure.figsize':(13,6)})\n",
    "married_data = data.loc[data['Sex'] == 'female']\n",
    "married_plot = sns.catplot(x=\"Married\", y=\"Survived\", kind=\"bar\",  palette=\"mako\" , data=married_data)\n",
    "married_plot.fig.suptitle(\"Married Vs Unmarried Surviving Rate \", va = 'top', fontsize=20 , y=1.05 )\n"
   ]
  },
  {
   "cell_type": "markdown",
   "id": "0c6dccf2",
   "metadata": {},
   "source": [
    "### Question 3: Which age group were the highest in each passenger class ?"
   ]
  },
  {
   "cell_type": "code",
   "execution_count": null,
   "id": "1798b95d",
   "metadata": {},
   "outputs": [],
   "source": [
    "#plotting the age range in regards to the passenger class\n",
    "sns.set(rc = {'figure.figsize':(13,6)})\n",
    "class_age_plot =sns.countplot(x=\"age_range\", hue =\"Pclass\" , data=data , palette=\"mako\", order = ['Age Range(0-18 years)','Age Range(19-40 years)' ,'Age Range(41-60 years)' , 'Age Range(60+ years)'] )\n",
    "class_age_plot.set_title(' Age Distribution in Passengers Classes' , fontsize=20)"
   ]
  },
  {
   "cell_type": "markdown",
   "id": "3786ffaf",
   "metadata": {},
   "source": [
    "### Question 4: What is the surviving rate in each age group ?"
   ]
  },
  {
   "cell_type": "code",
   "execution_count": null,
   "id": "5f482f0c",
   "metadata": {},
   "outputs": [],
   "source": [
    "#plotting the surviving rate in terms of the age group\n",
    "sns.set(rc = {'figure.figsize':(13,6)})\n",
    "surviving_age_plot =sns.countplot(x=\"age_range\", hue =\"Survived\" , data=data , palette=\"mako\" ,\n",
    "order = ['Age Range(0-18 years)','Age Range(19-40 years)' ,'Age Range(41-60 years)' , 'Age Range(60+ years)'])\n",
    "surviving_age_plot.set_title('Survivng Rate in Different Age Groups' , fontsize=20)\n"
   ]
  },
  {
   "cell_type": "markdown",
   "id": "ee085d7f",
   "metadata": {},
   "source": [
    "### Question 5: Is there a correlation between the surviving rate and the number of relatives for each passenger?"
   ]
  },
  {
   "cell_type": "code",
   "execution_count": null,
   "id": "7d3fcd3b",
   "metadata": {},
   "outputs": [],
   "source": [
    "#Creating a new column to count the whole relatives for each passenger \n",
    "data['relatives'] = data['SibSp'] + data['Parch']"
   ]
  },
  {
   "cell_type": "code",
   "execution_count": null,
   "id": "c6b70a5a",
   "metadata": {},
   "outputs": [],
   "source": [
    "#plotting surviving rate and the number of relatives \n",
    "relatives_plot = sns.countplot(x=\"relatives\", hue=\"Survived\",  palette=\"mako\" , data=data)\n",
    "relatives_plot.set_title('Correlation Between the Surviving Rate and Number of Relatives' , fontsize=20)"
   ]
  },
  {
   "cell_type": "markdown",
   "id": "ea5dbc20",
   "metadata": {},
   "source": [
    "References: <br>\n",
    "https://seaborn.pydata.org <br>\n",
    "https://pandas.pydata.org/docs/ <br>\n",
    "data Acquired from <br> https://www.kaggle.com/c/titanic"
   ]
  }
 ],
 "metadata": {
  "kernelspec": {
   "display_name": "Python 3",
   "language": "python",
   "name": "python3"
  },
  "language_info": {
   "codemirror_mode": {
    "name": "ipython",
    "version": 3
   },
   "file_extension": ".py",
   "mimetype": "text/x-python",
   "name": "python",
   "nbconvert_exporter": "python",
   "pygments_lexer": "ipython3",
   "version": "3.8.8"
  }
 },
 "nbformat": 4,
 "nbformat_minor": 5
}
